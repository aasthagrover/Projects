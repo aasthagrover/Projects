{
 "cells": [
  {
   "cell_type": "code",
   "execution_count": 3,
   "metadata": {
    "collapsed": true
   },
   "outputs": [],
   "source": [
    "import matplotlib.pyplot as plt\n",
    "import matplotlib as mpl\n",
    "import numpy as np\n",
    "import pandas as pd\n",
    "\n",
    "from sklearn import datasets\n",
    "from sklearn.cross_validation import StratifiedKFold\n",
    "from sklearn.externals.six.moves import xrange\n",
    "from sklearn.mixture import GMM"
   ]
  },
  {
   "cell_type": "markdown",
   "metadata": {
    "collapsed": true
   },
   "source": [
    "def make_ellipses(gmm, ax):\n",
    "    for n, color in enumerate('rgb'):\n",
    "        v, w = np.linalg.eigh(gmm._get_covars()[n][:2, :2])\n",
    "        u = w[0] / np.linalg.norm(w[0])\n",
    "        angle = np.arctan2(u[1], u[0])\n",
    "        angle = 180 * angle / np.pi  # convert to degrees\n",
    "        v *= 9\n",
    "        ell = mpl.patches.Ellipse(gmm.means_[n, :2], v[0], v[1],\n",
    "                                  180 + angle, color=color)\n",
    "        ell.set_clip_box(ax.bbox)\n",
    "        ell.set_alpha(0.5)\n",
    "        ax.add_artist(ell)"
   ]
  },
  {
   "cell_type": "markdown",
   "metadata": {},
   "source": [
    "## randontly select small sample training dataset"
   ]
  },
  {
   "cell_type": "code",
   "execution_count": 4,
   "metadata": {
    "collapsed": false
   },
   "outputs": [],
   "source": [
    "train=pd.read_csv('/Users/Shuxian/Documents/CSYE7390-Spring2016/ADS Final Project/forem.csv',parse_dates=['srch_ci','date_time'])"
   ]
  },
  {
   "cell_type": "markdown",
   "metadata": {},
   "source": [
    "## Drop useless columns"
   ]
  },
  {
   "cell_type": "code",
   "execution_count": 5,
   "metadata": {
    "collapsed": true
   },
   "outputs": [],
   "source": [
    "train= train.drop('Unnamed: 0',axis=1)"
   ]
  },
  {
   "cell_type": "code",
   "execution_count": 6,
   "metadata": {
    "collapsed": false
   },
   "outputs": [],
   "source": [
    "train['date_time']=pd.to_numeric(train['date_time'])"
   ]
  },
  {
   "cell_type": "code",
   "execution_count": 7,
   "metadata": {
    "collapsed": true
   },
   "outputs": [],
   "source": [
    "train['srch_ci']=pd.to_numeric(train['srch_ci'])"
   ]
  },
  {
   "cell_type": "code",
   "execution_count": 8,
   "metadata": {
    "collapsed": true
   },
   "outputs": [],
   "source": [
    "train_nhc=train.drop('hotel_cluster',axis=1)"
   ]
  },
  {
   "cell_type": "code",
   "execution_count": 9,
   "metadata": {
    "collapsed": false
   },
   "outputs": [
    {
     "data": {
      "text/html": [
       "<div>\n",
       "<table border=\"1\" class=\"dataframe\">\n",
       "  <thead>\n",
       "    <tr style=\"text-align: right;\">\n",
       "      <th></th>\n",
       "      <th>date_time</th>\n",
       "      <th>site_name</th>\n",
       "      <th>user_location_country</th>\n",
       "      <th>user_location_region</th>\n",
       "      <th>user_location_city</th>\n",
       "      <th>orig_destination_distance</th>\n",
       "      <th>is_mobile</th>\n",
       "      <th>is_package</th>\n",
       "      <th>channel</th>\n",
       "      <th>srch_ci</th>\n",
       "      <th>...</th>\n",
       "      <th>srch_rm_cnt</th>\n",
       "      <th>srch_destination_type_id</th>\n",
       "      <th>is_booking</th>\n",
       "      <th>cnt</th>\n",
       "      <th>hotel_continent</th>\n",
       "      <th>hotel_country</th>\n",
       "      <th>hotel_market</th>\n",
       "      <th>hotel_cluster</th>\n",
       "      <th>hotel_nights</th>\n",
       "      <th>adv_times</th>\n",
       "    </tr>\n",
       "  </thead>\n",
       "  <tbody>\n",
       "    <tr>\n",
       "      <th>0</th>\n",
       "      <td>1407678330000000000</td>\n",
       "      <td>2</td>\n",
       "      <td>66</td>\n",
       "      <td>348</td>\n",
       "      <td>46035</td>\n",
       "      <td>NaN</td>\n",
       "      <td>1</td>\n",
       "      <td>1</td>\n",
       "      <td>1</td>\n",
       "      <td>1413676800000000000</td>\n",
       "      <td>...</td>\n",
       "      <td>1</td>\n",
       "      <td>1</td>\n",
       "      <td>0</td>\n",
       "      <td>2</td>\n",
       "      <td>4</td>\n",
       "      <td>96</td>\n",
       "      <td>201</td>\n",
       "      <td>65</td>\n",
       "      <td>4.0</td>\n",
       "      <td>-73.426736</td>\n",
       "    </tr>\n",
       "    <tr>\n",
       "      <th>1</th>\n",
       "      <td>1417538810000000000</td>\n",
       "      <td>2</td>\n",
       "      <td>66</td>\n",
       "      <td>337</td>\n",
       "      <td>44102</td>\n",
       "      <td>956.5488</td>\n",
       "      <td>0</td>\n",
       "      <td>0</td>\n",
       "      <td>9</td>\n",
       "      <td>1424304000000000000</td>\n",
       "      <td>...</td>\n",
       "      <td>1</td>\n",
       "      <td>1</td>\n",
       "      <td>0</td>\n",
       "      <td>1</td>\n",
       "      <td>2</td>\n",
       "      <td>50</td>\n",
       "      <td>682</td>\n",
       "      <td>71</td>\n",
       "      <td>1.0</td>\n",
       "      <td>-79.300810</td>\n",
       "    </tr>\n",
       "    <tr>\n",
       "      <th>2</th>\n",
       "      <td>1403035727000000000</td>\n",
       "      <td>2</td>\n",
       "      <td>66</td>\n",
       "      <td>174</td>\n",
       "      <td>26265</td>\n",
       "      <td>208.5084</td>\n",
       "      <td>0</td>\n",
       "      <td>0</td>\n",
       "      <td>9</td>\n",
       "      <td>1404604800000000000</td>\n",
       "      <td>...</td>\n",
       "      <td>1</td>\n",
       "      <td>1</td>\n",
       "      <td>1</td>\n",
       "      <td>1</td>\n",
       "      <td>2</td>\n",
       "      <td>50</td>\n",
       "      <td>628</td>\n",
       "      <td>79</td>\n",
       "      <td>2.0</td>\n",
       "      <td>-20.160567</td>\n",
       "    </tr>\n",
       "    <tr>\n",
       "      <th>3</th>\n",
       "      <td>1404916495000000000</td>\n",
       "      <td>24</td>\n",
       "      <td>3</td>\n",
       "      <td>50</td>\n",
       "      <td>22013</td>\n",
       "      <td>NaN</td>\n",
       "      <td>0</td>\n",
       "      <td>0</td>\n",
       "      <td>5</td>\n",
       "      <td>1405468800000000000</td>\n",
       "      <td>...</td>\n",
       "      <td>1</td>\n",
       "      <td>1</td>\n",
       "      <td>0</td>\n",
       "      <td>1</td>\n",
       "      <td>3</td>\n",
       "      <td>104</td>\n",
       "      <td>63</td>\n",
       "      <td>82</td>\n",
       "      <td>2.0</td>\n",
       "      <td>-8.392419</td>\n",
       "    </tr>\n",
       "    <tr>\n",
       "      <th>4</th>\n",
       "      <td>1415044643000000000</td>\n",
       "      <td>2</td>\n",
       "      <td>66</td>\n",
       "      <td>331</td>\n",
       "      <td>23846</td>\n",
       "      <td>412.8715</td>\n",
       "      <td>0</td>\n",
       "      <td>0</td>\n",
       "      <td>2</td>\n",
       "      <td>1419206400000000000</td>\n",
       "      <td>...</td>\n",
       "      <td>1</td>\n",
       "      <td>1</td>\n",
       "      <td>0</td>\n",
       "      <td>2</td>\n",
       "      <td>2</td>\n",
       "      <td>50</td>\n",
       "      <td>675</td>\n",
       "      <td>28</td>\n",
       "      <td>6.0</td>\n",
       "      <td>-54.168484</td>\n",
       "    </tr>\n",
       "  </tbody>\n",
       "</table>\n",
       "<p>5 rows × 22 columns</p>\n",
       "</div>"
      ],
      "text/plain": [
       "             date_time  site_name  user_location_country  \\\n",
       "0  1407678330000000000          2                     66   \n",
       "1  1417538810000000000          2                     66   \n",
       "2  1403035727000000000          2                     66   \n",
       "3  1404916495000000000         24                      3   \n",
       "4  1415044643000000000          2                     66   \n",
       "\n",
       "   user_location_region  user_location_city  orig_destination_distance  \\\n",
       "0                   348               46035                        NaN   \n",
       "1                   337               44102                   956.5488   \n",
       "2                   174               26265                   208.5084   \n",
       "3                    50               22013                        NaN   \n",
       "4                   331               23846                   412.8715   \n",
       "\n",
       "   is_mobile  is_package  channel              srch_ci    ...      \\\n",
       "0          1           1        1  1413676800000000000    ...       \n",
       "1          0           0        9  1424304000000000000    ...       \n",
       "2          0           0        9  1404604800000000000    ...       \n",
       "3          0           0        5  1405468800000000000    ...       \n",
       "4          0           0        2  1419206400000000000    ...       \n",
       "\n",
       "   srch_rm_cnt  srch_destination_type_id  is_booking  cnt  hotel_continent  \\\n",
       "0            1                         1           0    2                4   \n",
       "1            1                         1           0    1                2   \n",
       "2            1                         1           1    1                2   \n",
       "3            1                         1           0    1                3   \n",
       "4            1                         1           0    2                2   \n",
       "\n",
       "   hotel_country  hotel_market  hotel_cluster  hotel_nights  adv_times  \n",
       "0             96           201             65           4.0 -73.426736  \n",
       "1             50           682             71           1.0 -79.300810  \n",
       "2             50           628             79           2.0 -20.160567  \n",
       "3            104            63             82           2.0  -8.392419  \n",
       "4             50           675             28           6.0 -54.168484  \n",
       "\n",
       "[5 rows x 22 columns]"
      ]
     },
     "execution_count": 9,
     "metadata": {},
     "output_type": "execute_result"
    }
   ],
   "source": [
    "train.head()"
   ]
  },
  {
   "cell_type": "code",
   "execution_count": 50,
   "metadata": {
    "collapsed": true
   },
   "outputs": [],
   "source": [
    "no_null_train_nhc = train_nhc.dropna()"
   ]
  },
  {
   "cell_type": "code",
   "execution_count": 49,
   "metadata": {
    "collapsed": true
   },
   "outputs": [],
   "source": [
    "test_nhc= train_nhc[train_nhc['orig_destination_distance'].isnull()]"
   ]
  },
  {
   "cell_type": "code",
   "execution_count": 51,
   "metadata": {
    "collapsed": false
   },
   "outputs": [],
   "source": [
    "X_train_nhc = no_null_train_nhc.drop('orig_destination_distance',axis=1)\n",
    "y_train_nhc = no_null_train_nhc['orig_destination_distance']\n",
    "X_test_nhc = test_nhc.drop('orig_destination_distance',axis=1)\n",
    "y_test_nhc = test_nhc['orig_destination_distance']"
   ]
  },
  {
   "cell_type": "code",
   "execution_count": 90,
   "metadata": {
    "collapsed": false
   },
   "outputs": [
    {
     "name": "stdout",
     "output_type": "stream",
     "text": [
      "<class 'pandas.core.frame.DataFrame'>\n",
      "Int64Index: 269753 entries, 0 to 752451\n",
      "Data columns (total 20 columns):\n",
      "date_time                   269753 non-null int64\n",
      "site_name                   269753 non-null int64\n",
      "user_location_country       269753 non-null int64\n",
      "user_location_region        269753 non-null int64\n",
      "user_location_city          269753 non-null int64\n",
      "is_mobile                   269753 non-null int64\n",
      "is_package                  269753 non-null int64\n",
      "channel                     269753 non-null int64\n",
      "srch_ci                     269753 non-null int64\n",
      "srch_adults_cnt             269753 non-null int64\n",
      "srch_children_cnt           269753 non-null int64\n",
      "srch_rm_cnt                 269753 non-null int64\n",
      "srch_destination_type_id    269753 non-null int64\n",
      "is_booking                  269753 non-null int64\n",
      "cnt                         269753 non-null int64\n",
      "hotel_continent             269753 non-null int64\n",
      "hotel_country               269753 non-null int64\n",
      "hotel_market                269753 non-null int64\n",
      "hotel_nights                269753 non-null float64\n",
      "adv_times                   269753 non-null float64\n",
      "dtypes: float64(2), int64(18)\n",
      "memory usage: 43.2 MB\n"
     ]
    }
   ],
   "source": [
    "X_test_nhc.info()"
   ]
  },
  {
   "cell_type": "markdown",
   "metadata": {
    "collapsed": true
   },
   "source": [
    "classifiers = dict((covar_type, GMM(n_components=n_classes,\n",
    "                    covariance_type=covar_type, init_params='wc', n_iter=20))\n",
    "                   for covar_type in ['spherical', 'diag', 'tied', 'full'])"
   ]
  },
  {
   "cell_type": "markdown",
   "metadata": {
    "collapsed": true
   },
   "source": [
    "n_classifiers = len(classifiers)\n",
    "\n",
    "plt.figure(figsize=(3 * n_classifiers / 2, 6))\n",
    "plt.subplots_adjust(bottom=.01, top=0.95, hspace=.15, wspace=.05,\n",
    "                    left=.01, right=.99)\n"
   ]
  },
  {
   "cell_type": "markdown",
   "metadata": {
    "collapsed": false
   },
   "source": [
    "y_test_pred = classifier.predict(X_test[1])"
   ]
  },
  {
   "cell_type": "markdown",
   "metadata": {},
   "source": [
    "## Build GMM model for imputation\n",
    "### classify data into 20 group and calculate mean distance for each group"
   ]
  },
  {
   "cell_type": "code",
   "execution_count": 12,
   "metadata": {
    "collapsed": false
   },
   "outputs": [],
   "source": [
    "g1 = GMM(n_components=20)"
   ]
  },
  {
   "cell_type": "code",
   "execution_count": 52,
   "metadata": {
    "collapsed": false
   },
   "outputs": [
    {
     "data": {
      "text/plain": [
       "GMM(covariance_type='diag', init_params='wmc', min_covar=0.001,\n",
       "  n_components=20, n_init=1, n_iter=100, params='wmc', random_state=None,\n",
       "  thresh=None, tol=0.001, verbose=0)"
      ]
     },
     "execution_count": 52,
     "metadata": {},
     "output_type": "execute_result"
    }
   ],
   "source": [
    "g1.fit(X_train_nhc,y_train_nhc)"
   ]
  },
  {
   "cell_type": "code",
   "execution_count": 53,
   "metadata": {
    "collapsed": false
   },
   "outputs": [],
   "source": [
    "y_pred_nhc=g1.predict(X_test_nhc)"
   ]
  },
  {
   "cell_type": "code",
   "execution_count": 59,
   "metadata": {
    "collapsed": false
   },
   "outputs": [
    {
     "data": {
      "text/plain": [
       "array([15, 16,  2, ..., 15, 10,  2])"
      ]
     },
     "execution_count": 59,
     "metadata": {},
     "output_type": "execute_result"
    }
   ],
   "source": [
    "y_train_pred_nhc = g1.predict(X_train_nhc)\n",
    "y_train_pred_nhc"
   ]
  },
  {
   "cell_type": "code",
   "execution_count": 60,
   "metadata": {
    "collapsed": false
   },
   "outputs": [
    {
     "name": "stderr",
     "output_type": "stream",
     "text": [
      "/Users/Shuxian/anaconda/lib/python3.5/site-packages/ipykernel/__main__.py:1: SettingWithCopyWarning: \n",
      "A value is trying to be set on a copy of a slice from a DataFrame.\n",
      "Try using .loc[row_indexer,col_indexer] = value instead\n",
      "\n",
      "See the caveats in the documentation: http://pandas.pydata.org/pandas-docs/stable/indexing.html#indexing-view-versus-copy\n",
      "  if __name__ == '__main__':\n"
     ]
    }
   ],
   "source": [
    "no_null_train_nhc['y_predict_nhc'] = y_train_pred_nhc"
   ]
  },
  {
   "cell_type": "code",
   "execution_count": 61,
   "metadata": {
    "collapsed": true
   },
   "outputs": [],
   "source": [
    "test1=no_null_train_nhc[['y_predict_nhc','orig_destination_distance']]"
   ]
  },
  {
   "cell_type": "code",
   "execution_count": 62,
   "metadata": {
    "collapsed": false
   },
   "outputs": [
    {
     "data": {
      "text/html": [
       "<div>\n",
       "<table border=\"1\" class=\"dataframe\">\n",
       "  <thead>\n",
       "    <tr style=\"text-align: right;\">\n",
       "      <th></th>\n",
       "      <th>y_predict_nhc</th>\n",
       "      <th>orig_destination_distance</th>\n",
       "    </tr>\n",
       "  </thead>\n",
       "  <tbody>\n",
       "    <tr>\n",
       "      <th>0</th>\n",
       "      <td>0</td>\n",
       "      <td>1904.747874</td>\n",
       "    </tr>\n",
       "    <tr>\n",
       "      <th>1</th>\n",
       "      <td>1</td>\n",
       "      <td>1422.386060</td>\n",
       "    </tr>\n",
       "    <tr>\n",
       "      <th>2</th>\n",
       "      <td>2</td>\n",
       "      <td>987.418012</td>\n",
       "    </tr>\n",
       "    <tr>\n",
       "      <th>3</th>\n",
       "      <td>3</td>\n",
       "      <td>2762.222894</td>\n",
       "    </tr>\n",
       "    <tr>\n",
       "      <th>4</th>\n",
       "      <td>4</td>\n",
       "      <td>2337.632389</td>\n",
       "    </tr>\n",
       "    <tr>\n",
       "      <th>5</th>\n",
       "      <td>5</td>\n",
       "      <td>2467.905943</td>\n",
       "    </tr>\n",
       "    <tr>\n",
       "      <th>6</th>\n",
       "      <td>6</td>\n",
       "      <td>3743.522878</td>\n",
       "    </tr>\n",
       "    <tr>\n",
       "      <th>7</th>\n",
       "      <td>7</td>\n",
       "      <td>969.493322</td>\n",
       "    </tr>\n",
       "    <tr>\n",
       "      <th>8</th>\n",
       "      <td>8</td>\n",
       "      <td>2256.811251</td>\n",
       "    </tr>\n",
       "    <tr>\n",
       "      <th>9</th>\n",
       "      <td>9</td>\n",
       "      <td>2626.112550</td>\n",
       "    </tr>\n",
       "    <tr>\n",
       "      <th>10</th>\n",
       "      <td>10</td>\n",
       "      <td>1000.185660</td>\n",
       "    </tr>\n",
       "    <tr>\n",
       "      <th>11</th>\n",
       "      <td>11</td>\n",
       "      <td>4452.159297</td>\n",
       "    </tr>\n",
       "    <tr>\n",
       "      <th>12</th>\n",
       "      <td>12</td>\n",
       "      <td>2076.889269</td>\n",
       "    </tr>\n",
       "    <tr>\n",
       "      <th>13</th>\n",
       "      <td>13</td>\n",
       "      <td>3453.855604</td>\n",
       "    </tr>\n",
       "    <tr>\n",
       "      <th>14</th>\n",
       "      <td>14</td>\n",
       "      <td>3095.148175</td>\n",
       "    </tr>\n",
       "    <tr>\n",
       "      <th>15</th>\n",
       "      <td>15</td>\n",
       "      <td>738.473873</td>\n",
       "    </tr>\n",
       "    <tr>\n",
       "      <th>16</th>\n",
       "      <td>16</td>\n",
       "      <td>1720.115796</td>\n",
       "    </tr>\n",
       "    <tr>\n",
       "      <th>17</th>\n",
       "      <td>17</td>\n",
       "      <td>3014.359500</td>\n",
       "    </tr>\n",
       "    <tr>\n",
       "      <th>18</th>\n",
       "      <td>18</td>\n",
       "      <td>3204.687410</td>\n",
       "    </tr>\n",
       "    <tr>\n",
       "      <th>19</th>\n",
       "      <td>19</td>\n",
       "      <td>3922.739801</td>\n",
       "    </tr>\n",
       "  </tbody>\n",
       "</table>\n",
       "</div>"
      ],
      "text/plain": [
       "    y_predict_nhc  orig_destination_distance\n",
       "0               0                1904.747874\n",
       "1               1                1422.386060\n",
       "2               2                 987.418012\n",
       "3               3                2762.222894\n",
       "4               4                2337.632389\n",
       "5               5                2467.905943\n",
       "6               6                3743.522878\n",
       "7               7                 969.493322\n",
       "8               8                2256.811251\n",
       "9               9                2626.112550\n",
       "10             10                1000.185660\n",
       "11             11                4452.159297\n",
       "12             12                2076.889269\n",
       "13             13                3453.855604\n",
       "14             14                3095.148175\n",
       "15             15                 738.473873\n",
       "16             16                1720.115796\n",
       "17             17                3014.359500\n",
       "18             18                3204.687410\n",
       "19             19                3922.739801"
      ]
     },
     "execution_count": 62,
     "metadata": {},
     "output_type": "execute_result"
    }
   ],
   "source": [
    "test1=no_null_train_nhc[['y_predict_nhc','orig_destination_distance']].groupby(['y_predict_nhc']).mean()\n",
    "test1.reset_index(level=['y_predict_nhc'], inplace = True)\n",
    "test1"
   ]
  },
  {
   "cell_type": "code",
   "execution_count": 65,
   "metadata": {
    "collapsed": false,
    "scrolled": true
   },
   "outputs": [
    {
     "data": {
      "text/plain": [
       "array([ -94.96735477, -116.05609039, -101.53668172, ...,  -95.04853125,\n",
       "       -119.11196509, -100.65915695])"
      ]
     },
     "execution_count": 65,
     "metadata": {},
     "output_type": "execute_result"
    }
   ],
   "source": [
    "g1.score(X_train_nhc,y_train_nhc)"
   ]
  },
  {
   "cell_type": "markdown",
   "metadata": {},
   "source": [
    "## model on different dataset"
   ]
  },
  {
   "cell_type": "code",
   "execution_count": 66,
   "metadata": {
    "collapsed": false
   },
   "outputs": [
    {
     "data": {
      "text/plain": [
       "GMM(covariance_type='diag', init_params='wmc', min_covar=0.001,\n",
       "  n_components=20, n_init=1, n_iter=100, params='wmc', random_state=None,\n",
       "  thresh=None, tol=0.001, verbose=0)"
      ]
     },
     "execution_count": 66,
     "metadata": {},
     "output_type": "execute_result"
    }
   ],
   "source": [
    "g2 = GMM(n_components=20)\n",
    "g2.fit(X_train_nhc)"
   ]
  },
  {
   "cell_type": "code",
   "execution_count": 67,
   "metadata": {
    "collapsed": false
   },
   "outputs": [],
   "source": [
    "y_pred_nhc2=g2.predict(X_test_nhc)"
   ]
  },
  {
   "cell_type": "code",
   "execution_count": 68,
   "metadata": {
    "collapsed": false
   },
   "outputs": [],
   "source": [
    "y_train_pred_nhc2 = g2.predict(X_train_nhc)"
   ]
  },
  {
   "cell_type": "code",
   "execution_count": 69,
   "metadata": {
    "collapsed": false
   },
   "outputs": [
    {
     "name": "stderr",
     "output_type": "stream",
     "text": [
      "/Users/Shuxian/anaconda/lib/python3.5/site-packages/ipykernel/__main__.py:1: SettingWithCopyWarning: \n",
      "A value is trying to be set on a copy of a slice from a DataFrame.\n",
      "Try using .loc[row_indexer,col_indexer] = value instead\n",
      "\n",
      "See the caveats in the documentation: http://pandas.pydata.org/pandas-docs/stable/indexing.html#indexing-view-versus-copy\n",
      "  if __name__ == '__main__':\n"
     ]
    }
   ],
   "source": [
    "no_null_train_nhc['y_predict_nhc2'] = y_train_pred_nhc2"
   ]
  },
  {
   "cell_type": "code",
   "execution_count": 77,
   "metadata": {
    "collapsed": false,
    "scrolled": true
   },
   "outputs": [
    {
     "data": {
      "text/plain": [
       "array([-107.65424601, -122.84339837, -126.76502854, ..., -131.35436858,\n",
       "       -101.82555056, -140.83848682])"
      ]
     },
     "execution_count": 77,
     "metadata": {},
     "output_type": "execute_result"
    }
   ],
   "source": [
    "g2.score(X_test_nhc)"
   ]
  },
  {
   "cell_type": "code",
   "execution_count": 81,
   "metadata": {
    "collapsed": false,
    "scrolled": true
   },
   "outputs": [
    {
     "data": {
      "text/html": [
       "<div>\n",
       "<table border=\"1\" class=\"dataframe\">\n",
       "  <thead>\n",
       "    <tr style=\"text-align: right;\">\n",
       "      <th></th>\n",
       "      <th>y_predict_nhc2</th>\n",
       "      <th>orig_destination_distance</th>\n",
       "    </tr>\n",
       "  </thead>\n",
       "  <tbody>\n",
       "    <tr>\n",
       "      <th>0</th>\n",
       "      <td>0</td>\n",
       "      <td>4158.045993</td>\n",
       "    </tr>\n",
       "    <tr>\n",
       "      <th>1</th>\n",
       "      <td>1</td>\n",
       "      <td>2006.406523</td>\n",
       "    </tr>\n",
       "    <tr>\n",
       "      <th>2</th>\n",
       "      <td>2</td>\n",
       "      <td>765.905723</td>\n",
       "    </tr>\n",
       "    <tr>\n",
       "      <th>3</th>\n",
       "      <td>3</td>\n",
       "      <td>3229.125974</td>\n",
       "    </tr>\n",
       "    <tr>\n",
       "      <th>4</th>\n",
       "      <td>4</td>\n",
       "      <td>2805.630648</td>\n",
       "    </tr>\n",
       "    <tr>\n",
       "      <th>5</th>\n",
       "      <td>5</td>\n",
       "      <td>2457.086324</td>\n",
       "    </tr>\n",
       "    <tr>\n",
       "      <th>6</th>\n",
       "      <td>6</td>\n",
       "      <td>2045.687757</td>\n",
       "    </tr>\n",
       "    <tr>\n",
       "      <th>7</th>\n",
       "      <td>7</td>\n",
       "      <td>2259.714301</td>\n",
       "    </tr>\n",
       "    <tr>\n",
       "      <th>8</th>\n",
       "      <td>8</td>\n",
       "      <td>2256.469572</td>\n",
       "    </tr>\n",
       "    <tr>\n",
       "      <th>9</th>\n",
       "      <td>9</td>\n",
       "      <td>3323.407500</td>\n",
       "    </tr>\n",
       "    <tr>\n",
       "      <th>10</th>\n",
       "      <td>10</td>\n",
       "      <td>2074.285886</td>\n",
       "    </tr>\n",
       "    <tr>\n",
       "      <th>11</th>\n",
       "      <td>11</td>\n",
       "      <td>3342.965149</td>\n",
       "    </tr>\n",
       "    <tr>\n",
       "      <th>12</th>\n",
       "      <td>12</td>\n",
       "      <td>2753.740052</td>\n",
       "    </tr>\n",
       "    <tr>\n",
       "      <th>13</th>\n",
       "      <td>13</td>\n",
       "      <td>846.913217</td>\n",
       "    </tr>\n",
       "    <tr>\n",
       "      <th>14</th>\n",
       "      <td>14</td>\n",
       "      <td>819.120928</td>\n",
       "    </tr>\n",
       "    <tr>\n",
       "      <th>15</th>\n",
       "      <td>15</td>\n",
       "      <td>876.561619</td>\n",
       "    </tr>\n",
       "    <tr>\n",
       "      <th>16</th>\n",
       "      <td>16</td>\n",
       "      <td>2201.758873</td>\n",
       "    </tr>\n",
       "    <tr>\n",
       "      <th>17</th>\n",
       "      <td>17</td>\n",
       "      <td>3859.992749</td>\n",
       "    </tr>\n",
       "    <tr>\n",
       "      <th>18</th>\n",
       "      <td>18</td>\n",
       "      <td>3152.519755</td>\n",
       "    </tr>\n",
       "    <tr>\n",
       "      <th>19</th>\n",
       "      <td>19</td>\n",
       "      <td>2109.205130</td>\n",
       "    </tr>\n",
       "  </tbody>\n",
       "</table>\n",
       "</div>"
      ],
      "text/plain": [
       "    y_predict_nhc2  orig_destination_distance\n",
       "0                0                4158.045993\n",
       "1                1                2006.406523\n",
       "2                2                 765.905723\n",
       "3                3                3229.125974\n",
       "4                4                2805.630648\n",
       "5                5                2457.086324\n",
       "6                6                2045.687757\n",
       "7                7                2259.714301\n",
       "8                8                2256.469572\n",
       "9                9                3323.407500\n",
       "10              10                2074.285886\n",
       "11              11                3342.965149\n",
       "12              12                2753.740052\n",
       "13              13                 846.913217\n",
       "14              14                 819.120928\n",
       "15              15                 876.561619\n",
       "16              16                2201.758873\n",
       "17              17                3859.992749\n",
       "18              18                3152.519755\n",
       "19              19                2109.205130"
      ]
     },
     "execution_count": 81,
     "metadata": {},
     "output_type": "execute_result"
    }
   ],
   "source": [
    "test2=no_null_train_nhc[['y_predict_nhc2','orig_destination_distance']].groupby(['y_predict_nhc2']).mean()\n",
    "test2.reset_index(level=['y_predict_nhc2'], inplace = True)\n",
    "test2"
   ]
  },
  {
   "cell_type": "code",
   "execution_count": 78,
   "metadata": {
    "collapsed": false,
    "scrolled": true
   },
   "outputs": [
    {
     "name": "stderr",
     "output_type": "stream",
     "text": [
      "/Users/Shuxian/anaconda/lib/python3.5/site-packages/ipykernel/__main__.py:1: SettingWithCopyWarning: \n",
      "A value is trying to be set on a copy of a slice from a DataFrame.\n",
      "Try using .loc[row_indexer,col_indexer] = value instead\n",
      "\n",
      "See the caveats in the documentation: http://pandas.pydata.org/pandas-docs/stable/indexing.html#indexing-view-versus-copy\n",
      "  if __name__ == '__main__':\n"
     ]
    }
   ],
   "source": [
    "test_nhc['y_predict_nhc2'] = y_pred_nhc2"
   ]
  },
  {
   "cell_type": "code",
   "execution_count": 131,
   "metadata": {
    "collapsed": false
   },
   "outputs": [],
   "source": [
    "result = test_nhc.merge(test2, on='y_predict_nhc2', how='left', indicator=True)"
   ]
  },
  {
   "cell_type": "code",
   "execution_count": 132,
   "metadata": {
    "collapsed": false,
    "scrolled": true
   },
   "outputs": [
    {
     "name": "stdout",
     "output_type": "stream",
     "text": [
      "<class 'pandas.core.frame.DataFrame'>\n",
      "Int64Index: 269753 entries, 0 to 269752\n",
      "Data columns (total 24 columns):\n",
      "date_time                      269753 non-null int64\n",
      "site_name                      269753 non-null int64\n",
      "user_location_country          269753 non-null int64\n",
      "user_location_region           269753 non-null int64\n",
      "user_location_city             269753 non-null int64\n",
      "orig_destination_distance_x    0 non-null float64\n",
      "is_mobile                      269753 non-null int64\n",
      "is_package                     269753 non-null int64\n",
      "channel                        269753 non-null int64\n",
      "srch_ci                        269753 non-null int64\n",
      "srch_adults_cnt                269753 non-null int64\n",
      "srch_children_cnt              269753 non-null int64\n",
      "srch_rm_cnt                    269753 non-null int64\n",
      "srch_destination_type_id       269753 non-null int64\n",
      "is_booking                     269753 non-null int64\n",
      "cnt                            269753 non-null int64\n",
      "hotel_continent                269753 non-null int64\n",
      "hotel_country                  269753 non-null int64\n",
      "hotel_market                   269753 non-null int64\n",
      "hotel_nights                   269753 non-null float64\n",
      "adv_times                      269753 non-null float64\n",
      "y_predict_nhc2                 269753 non-null int64\n",
      "orig_destination_distance_y    269753 non-null float64\n",
      "_merge                         269753 non-null category\n",
      "dtypes: category(1), float64(4), int64(19)\n",
      "memory usage: 49.7 MB\n"
     ]
    }
   ],
   "source": [
    "result.info()"
   ]
  },
  {
   "cell_type": "code",
   "execution_count": 133,
   "metadata": {
    "collapsed": true
   },
   "outputs": [],
   "source": [
    "result=result.drop('orig_destination_distance_x',axis=1)"
   ]
  },
  {
   "cell_type": "code",
   "execution_count": 134,
   "metadata": {
    "collapsed": true
   },
   "outputs": [],
   "source": [
    "result.rename(columns={'orig_destination_distance_y': 'orig_destination_distance'}, inplace=True)"
   ]
  },
  {
   "cell_type": "code",
   "execution_count": 135,
   "metadata": {
    "collapsed": false,
    "scrolled": true
   },
   "outputs": [],
   "source": [
    "result=result.drop('_merge',axis=1)"
   ]
  },
  {
   "cell_type": "code",
   "execution_count": 176,
   "metadata": {
    "collapsed": false
   },
   "outputs": [],
   "source": [
    "final=pd.concat([no_null_train_nhc,result])"
   ]
  },
  {
   "cell_type": "code",
   "execution_count": 171,
   "metadata": {
    "collapsed": false
   },
   "outputs": [],
   "source": [
    "final=final.drop('y_predict_nhc',axis=1)"
   ]
  },
  {
   "cell_type": "code",
   "execution_count": 172,
   "metadata": {
    "collapsed": false,
    "scrolled": true
   },
   "outputs": [],
   "source": [
    "final=final.drop('y_predict_nhc2',axis=1)"
   ]
  },
  {
   "cell_type": "code",
   "execution_count": 173,
   "metadata": {
    "collapsed": false,
    "scrolled": true
   },
   "outputs": [
    {
     "name": "stdout",
     "output_type": "stream",
     "text": [
      "<class 'pandas.core.frame.DataFrame'>\n",
      "Int64Index: 752455 entries, 1 to 269752\n",
      "Data columns (total 21 columns):\n",
      "adv_times                    752455 non-null float64\n",
      "channel                      752455 non-null int64\n",
      "cnt                          752455 non-null int64\n",
      "date_time                    752455 non-null int64\n",
      "hotel_continent              752455 non-null int64\n",
      "hotel_country                752455 non-null int64\n",
      "hotel_market                 752455 non-null int64\n",
      "hotel_nights                 752455 non-null float64\n",
      "is_booking                   752455 non-null int64\n",
      "is_mobile                    752455 non-null int64\n",
      "is_package                   752455 non-null int64\n",
      "orig_destination_distance    752455 non-null float64\n",
      "site_name                    752455 non-null int64\n",
      "srch_adults_cnt              752455 non-null int64\n",
      "srch_children_cnt            752455 non-null int64\n",
      "srch_ci                      752455 non-null int64\n",
      "srch_destination_type_id     752455 non-null int64\n",
      "srch_rm_cnt                  752455 non-null int64\n",
      "user_location_city           752455 non-null int64\n",
      "user_location_country        752455 non-null int64\n",
      "user_location_region         752455 non-null int64\n",
      "dtypes: float64(3), int64(18)\n",
      "memory usage: 126.3 MB\n"
     ]
    }
   ],
   "source": [
    "final.info()"
   ]
  },
  {
   "cell_type": "code",
   "execution_count": 174,
   "metadata": {
    "collapsed": true
   },
   "outputs": [],
   "source": [
    "final=final.reset_index(drop=True)"
   ]
  },
  {
   "cell_type": "code",
   "execution_count": 163,
   "metadata": {
    "collapsed": true
   },
   "outputs": [],
   "source": [
    "addhc = train[['date_time','hotel_cluster']]"
   ]
  },
  {
   "cell_type": "code",
   "execution_count": 167,
   "metadata": {
    "collapsed": false
   },
   "outputs": [],
   "source": [
    "final = final.merge(train, on='date_time', how='left', indicator=True)"
   ]
  },
  {
   "cell_type": "code",
   "execution_count": 121,
   "metadata": {
    "collapsed": false
   },
   "outputs": [],
   "source": [
    "final['date_time']=pd.to_datetime(final['date_time'])"
   ]
  },
  {
   "cell_type": "code",
   "execution_count": 122,
   "metadata": {
    "collapsed": true
   },
   "outputs": [],
   "source": [
    "final['srch_ci']=pd.to_datetime(final['srch_ci'])"
   ]
  },
  {
   "cell_type": "code",
   "execution_count": 125,
   "metadata": {
    "collapsed": false
   },
   "outputs": [],
   "source": [
    "final.to_csv('/Users/Shuxian/Documents/CSYE7390-Spring2016/ADS Final Project/finaltrain.csv',index=False)"
   ]
  },
  {
   "cell_type": "code",
   "execution_count": 182,
   "metadata": {
    "collapsed": false
   },
   "outputs": [],
   "source": [
    "X_train = train.dropna().drop('orig_destination_distance',axis=1)\n",
    "X_test = train[train['orig_destination_distance'].isnull()].drop('orig_destination_distance',axis=1)"
   ]
  },
  {
   "cell_type": "code",
   "execution_count": 195,
   "metadata": {
    "collapsed": false,
    "scrolled": true
   },
   "outputs": [
    {
     "name": "stdout",
     "output_type": "stream",
     "text": [
      "<class 'pandas.core.frame.DataFrame'>\n",
      "Int64Index: 269753 entries, 0 to 752451\n",
      "Data columns (total 21 columns):\n",
      "date_time                   269753 non-null int64\n",
      "site_name                   269753 non-null int64\n",
      "user_location_country       269753 non-null int64\n",
      "user_location_region        269753 non-null int64\n",
      "user_location_city          269753 non-null int64\n",
      "is_mobile                   269753 non-null int64\n",
      "is_package                  269753 non-null int64\n",
      "channel                     269753 non-null int64\n",
      "srch_ci                     269753 non-null int64\n",
      "srch_adults_cnt             269753 non-null int64\n",
      "srch_children_cnt           269753 non-null int64\n",
      "srch_rm_cnt                 269753 non-null int64\n",
      "srch_destination_type_id    269753 non-null int64\n",
      "is_booking                  269753 non-null int64\n",
      "cnt                         269753 non-null int64\n",
      "hotel_continent             269753 non-null int64\n",
      "hotel_country               269753 non-null int64\n",
      "hotel_market                269753 non-null int64\n",
      "hotel_cluster               269753 non-null int64\n",
      "hotel_nights                269753 non-null float64\n",
      "adv_times                   269753 non-null float64\n",
      "dtypes: float64(2), int64(19)\n",
      "memory usage: 45.3 MB\n"
     ]
    }
   ],
   "source": [
    "X_test.info()"
   ]
  },
  {
   "cell_type": "markdown",
   "metadata": {},
   "source": [
    "## different data input"
   ]
  },
  {
   "cell_type": "code",
   "execution_count": 184,
   "metadata": {
    "collapsed": false
   },
   "outputs": [
    {
     "data": {
      "text/plain": [
       "GMM(covariance_type='diag', init_params='wmc', min_covar=0.001,\n",
       "  n_components=20, n_init=1, n_iter=100, params='wmc', random_state=None,\n",
       "  thresh=None, tol=0.001, verbose=0)"
      ]
     },
     "execution_count": 184,
     "metadata": {},
     "output_type": "execute_result"
    }
   ],
   "source": [
    "g2.fit(X_train)"
   ]
  },
  {
   "cell_type": "code",
   "execution_count": 188,
   "metadata": {
    "collapsed": false
   },
   "outputs": [],
   "source": [
    "no_null_train = train.dropna()\n",
    "null_train = train[train['orig_destination_distance'].isnull()]"
   ]
  },
  {
   "cell_type": "code",
   "execution_count": 189,
   "metadata": {
    "collapsed": false
   },
   "outputs": [
    {
     "name": "stderr",
     "output_type": "stream",
     "text": [
      "/Users/Shuxian/anaconda/lib/python3.5/site-packages/ipykernel/__main__.py:1: SettingWithCopyWarning: \n",
      "A value is trying to be set on a copy of a slice from a DataFrame.\n",
      "Try using .loc[row_indexer,col_indexer] = value instead\n",
      "\n",
      "See the caveats in the documentation: http://pandas.pydata.org/pandas-docs/stable/indexing.html#indexing-view-versus-copy\n",
      "  if __name__ == '__main__':\n"
     ]
    }
   ],
   "source": [
    "no_null_train['y_predict'] = g2.predict(X_train)"
   ]
  },
  {
   "cell_type": "markdown",
   "metadata": {},
   "source": [
    "## use this mean table as reference "
   ]
  },
  {
   "cell_type": "code",
   "execution_count": 190,
   "metadata": {
    "collapsed": false
   },
   "outputs": [
    {
     "data": {
      "text/html": [
       "<div>\n",
       "<table border=\"1\" class=\"dataframe\">\n",
       "  <thead>\n",
       "    <tr style=\"text-align: right;\">\n",
       "      <th></th>\n",
       "      <th>y_predict</th>\n",
       "      <th>orig_destination_distance</th>\n",
       "    </tr>\n",
       "  </thead>\n",
       "  <tbody>\n",
       "    <tr>\n",
       "      <th>0</th>\n",
       "      <td>0</td>\n",
       "      <td>2806.413908</td>\n",
       "    </tr>\n",
       "    <tr>\n",
       "      <th>1</th>\n",
       "      <td>1</td>\n",
       "      <td>2981.863080</td>\n",
       "    </tr>\n",
       "    <tr>\n",
       "      <th>2</th>\n",
       "      <td>2</td>\n",
       "      <td>3763.506324</td>\n",
       "    </tr>\n",
       "    <tr>\n",
       "      <th>3</th>\n",
       "      <td>3</td>\n",
       "      <td>2164.268154</td>\n",
       "    </tr>\n",
       "    <tr>\n",
       "      <th>4</th>\n",
       "      <td>4</td>\n",
       "      <td>2189.838912</td>\n",
       "    </tr>\n",
       "    <tr>\n",
       "      <th>5</th>\n",
       "      <td>5</td>\n",
       "      <td>2070.379825</td>\n",
       "    </tr>\n",
       "    <tr>\n",
       "      <th>6</th>\n",
       "      <td>6</td>\n",
       "      <td>4375.340809</td>\n",
       "    </tr>\n",
       "    <tr>\n",
       "      <th>7</th>\n",
       "      <td>7</td>\n",
       "      <td>2744.279203</td>\n",
       "    </tr>\n",
       "    <tr>\n",
       "      <th>8</th>\n",
       "      <td>8</td>\n",
       "      <td>3228.292094</td>\n",
       "    </tr>\n",
       "    <tr>\n",
       "      <th>9</th>\n",
       "      <td>9</td>\n",
       "      <td>3657.407685</td>\n",
       "    </tr>\n",
       "    <tr>\n",
       "      <th>10</th>\n",
       "      <td>10</td>\n",
       "      <td>1838.186279</td>\n",
       "    </tr>\n",
       "    <tr>\n",
       "      <th>11</th>\n",
       "      <td>11</td>\n",
       "      <td>2462.773347</td>\n",
       "    </tr>\n",
       "    <tr>\n",
       "      <th>12</th>\n",
       "      <td>12</td>\n",
       "      <td>855.013145</td>\n",
       "    </tr>\n",
       "    <tr>\n",
       "      <th>13</th>\n",
       "      <td>13</td>\n",
       "      <td>2258.226382</td>\n",
       "    </tr>\n",
       "    <tr>\n",
       "      <th>14</th>\n",
       "      <td>14</td>\n",
       "      <td>3142.198015</td>\n",
       "    </tr>\n",
       "    <tr>\n",
       "      <th>15</th>\n",
       "      <td>15</td>\n",
       "      <td>3103.028558</td>\n",
       "    </tr>\n",
       "    <tr>\n",
       "      <th>16</th>\n",
       "      <td>16</td>\n",
       "      <td>3177.290303</td>\n",
       "    </tr>\n",
       "    <tr>\n",
       "      <th>17</th>\n",
       "      <td>17</td>\n",
       "      <td>830.841539</td>\n",
       "    </tr>\n",
       "    <tr>\n",
       "      <th>18</th>\n",
       "      <td>18</td>\n",
       "      <td>815.978663</td>\n",
       "    </tr>\n",
       "    <tr>\n",
       "      <th>19</th>\n",
       "      <td>19</td>\n",
       "      <td>2556.961581</td>\n",
       "    </tr>\n",
       "  </tbody>\n",
       "</table>\n",
       "</div>"
      ],
      "text/plain": [
       "    y_predict  orig_destination_distance\n",
       "0           0                2806.413908\n",
       "1           1                2981.863080\n",
       "2           2                3763.506324\n",
       "3           3                2164.268154\n",
       "4           4                2189.838912\n",
       "5           5                2070.379825\n",
       "6           6                4375.340809\n",
       "7           7                2744.279203\n",
       "8           8                3228.292094\n",
       "9           9                3657.407685\n",
       "10         10                1838.186279\n",
       "11         11                2462.773347\n",
       "12         12                 855.013145\n",
       "13         13                2258.226382\n",
       "14         14                3142.198015\n",
       "15         15                3103.028558\n",
       "16         16                3177.290303\n",
       "17         17                 830.841539\n",
       "18         18                 815.978663\n",
       "19         19                2556.961581"
      ]
     },
     "execution_count": 190,
     "metadata": {},
     "output_type": "execute_result"
    }
   ],
   "source": [
    "means=no_null_train[['y_predict','orig_destination_distance']].groupby(['y_predict']).mean()\n",
    "means.reset_index(level=['y_predict'], inplace = True)\n",
    "means"
   ]
  },
  {
   "cell_type": "code",
   "execution_count": 191,
   "metadata": {
    "collapsed": false,
    "scrolled": false
   },
   "outputs": [
    {
     "name": "stderr",
     "output_type": "stream",
     "text": [
      "/Users/Shuxian/anaconda/lib/python3.5/site-packages/ipykernel/__main__.py:1: SettingWithCopyWarning: \n",
      "A value is trying to be set on a copy of a slice from a DataFrame.\n",
      "Try using .loc[row_indexer,col_indexer] = value instead\n",
      "\n",
      "See the caveats in the documentation: http://pandas.pydata.org/pandas-docs/stable/indexing.html#indexing-view-versus-copy\n",
      "  if __name__ == '__main__':\n"
     ]
    }
   ],
   "source": [
    "null_train['y_predict'] = g2.predict(X_test)"
   ]
  },
  {
   "cell_type": "markdown",
   "metadata": {},
   "source": [
    "## merge back to the orginal dataset to fill null value"
   ]
  },
  {
   "cell_type": "code",
   "execution_count": 192,
   "metadata": {
    "collapsed": true
   },
   "outputs": [],
   "source": [
    "newresult = null_train.merge(means, on='y_predict', how='left', indicator=True)"
   ]
  },
  {
   "cell_type": "code",
   "execution_count": 196,
   "metadata": {
    "collapsed": false
   },
   "outputs": [],
   "source": [
    "newresult=newresult.drop('orig_destination_distance_x',axis=1)"
   ]
  },
  {
   "cell_type": "code",
   "execution_count": 197,
   "metadata": {
    "collapsed": true
   },
   "outputs": [],
   "source": [
    "newresult.rename(columns={'orig_destination_distance_y': 'orig_destination_distance'}, inplace=True)"
   ]
  },
  {
   "cell_type": "code",
   "execution_count": 198,
   "metadata": {
    "collapsed": true
   },
   "outputs": [],
   "source": [
    "newresult=newresult.drop('_merge',axis=1)"
   ]
  },
  {
   "cell_type": "code",
   "execution_count": 199,
   "metadata": {
    "collapsed": true
   },
   "outputs": [],
   "source": [
    "newfinal = pd.concat([no_null_train,newresult])"
   ]
  },
  {
   "cell_type": "code",
   "execution_count": 201,
   "metadata": {
    "collapsed": false
   },
   "outputs": [],
   "source": [
    "newfinal['date_time']= pd.to_datetime(newfinal['date_time'])"
   ]
  },
  {
   "cell_type": "code",
   "execution_count": 202,
   "metadata": {
    "collapsed": true
   },
   "outputs": [],
   "source": [
    "newfinal['srch_ci']= pd.to_datetime(newfinal['srch_ci'])"
   ]
  },
  {
   "cell_type": "code",
   "execution_count": 204,
   "metadata": {
    "collapsed": false
   },
   "outputs": [],
   "source": [
    "newfinal=newfinal.reset_index(drop=True)"
   ]
  },
  {
   "cell_type": "code",
   "execution_count": 205,
   "metadata": {
    "collapsed": false,
    "scrolled": true
   },
   "outputs": [
    {
     "name": "stdout",
     "output_type": "stream",
     "text": [
      "<class 'pandas.core.frame.DataFrame'>\n",
      "RangeIndex: 752455 entries, 0 to 752454\n",
      "Data columns (total 23 columns):\n",
      "adv_times                    752455 non-null float64\n",
      "channel                      752455 non-null int64\n",
      "cnt                          752455 non-null int64\n",
      "date_time                    752455 non-null datetime64[ns]\n",
      "hotel_cluster                752455 non-null int64\n",
      "hotel_continent              752455 non-null int64\n",
      "hotel_country                752455 non-null int64\n",
      "hotel_market                 752455 non-null int64\n",
      "hotel_nights                 752455 non-null float64\n",
      "is_booking                   752455 non-null int64\n",
      "is_mobile                    752455 non-null int64\n",
      "is_package                   752455 non-null int64\n",
      "orig_destination_distance    752455 non-null float64\n",
      "site_name                    752455 non-null int64\n",
      "srch_adults_cnt              752455 non-null int64\n",
      "srch_children_cnt            752455 non-null int64\n",
      "srch_ci                      752455 non-null datetime64[ns]\n",
      "srch_destination_type_id     752455 non-null int64\n",
      "srch_rm_cnt                  752455 non-null int64\n",
      "user_location_city           752455 non-null int64\n",
      "user_location_country        752455 non-null int64\n",
      "user_location_region         752455 non-null int64\n",
      "y_predict                    752455 non-null int64\n",
      "dtypes: datetime64[ns](2), float64(3), int64(18)\n",
      "memory usage: 132.0 MB\n"
     ]
    }
   ],
   "source": [
    "newfinal.info()"
   ]
  },
  {
   "cell_type": "code",
   "execution_count": 206,
   "metadata": {
    "collapsed": true
   },
   "outputs": [],
   "source": [
    "newfinal.to_csv('/Users/Shuxian/Documents/CSYE7390-Spring2016/ADS Final Project/newtrain.csv',index=False)"
   ]
  },
  {
   "cell_type": "markdown",
   "metadata": {
    "collapsed": true
   },
   "source": [
    "g3= GMM(n_components=100)"
   ]
  },
  {
   "cell_type": "markdown",
   "metadata": {
    "collapsed": true
   },
   "source": [
    "no_null_train = train.dropna()"
   ]
  },
  {
   "cell_type": "markdown",
   "metadata": {
    "collapsed": true
   },
   "source": [
    "null_train = train[train['orig_destination_distance'].isnull()]"
   ]
  },
  {
   "cell_type": "markdown",
   "metadata": {
    "collapsed": false
   },
   "source": [
    "X = no_null_train.drop('hotel_cluster',axis=1)\n",
    "y=no_null_train['hotel_cluster']"
   ]
  },
  {
   "cell_type": "markdown",
   "metadata": {
    "collapsed": true
   },
   "source": [
    "g3.fit(X,y)"
   ]
  },
  {
   "cell_type": "code",
   "execution_count": 209,
   "metadata": {
    "collapsed": false,
    "scrolled": true
   },
   "outputs": [
    {
     "data": {
      "text/plain": [
       "array(['adv_times', 'channel', 'cnt', 'date_time', 'hotel_cluster',\n",
       "       'hotel_continent', 'hotel_country', 'hotel_market', 'hotel_nights',\n",
       "       'is_booking', 'is_mobile', 'is_package',\n",
       "       'orig_destination_distance', 'site_name', 'srch_adults_cnt',\n",
       "       'srch_children_cnt', 'srch_ci', 'srch_destination_type_id',\n",
       "       'srch_rm_cnt', 'user_location_city', 'user_location_country',\n",
       "       'user_location_region', 'y_predict'], dtype=object)"
      ]
     },
     "execution_count": 209,
     "metadata": {},
     "output_type": "execute_result"
    }
   ],
   "source": [
    "newfinal.columns.unique()"
   ]
  },
  {
   "cell_type": "markdown",
   "metadata": {},
   "source": [
    "## Delete outer liners"
   ]
  },
  {
   "cell_type": "code",
   "execution_count": 212,
   "metadata": {
    "collapsed": false
   },
   "outputs": [],
   "source": [
    "newfinal=newfinal[newfinal['adv_times']<1 ]"
   ]
  },
  {
   "cell_type": "code",
   "execution_count": 216,
   "metadata": {
    "collapsed": false
   },
   "outputs": [],
   "source": [
    "newfinal = newfinal[newfinal['hotel_nights']>= 0]"
   ]
  },
  {
   "cell_type": "code",
   "execution_count": 222,
   "metadata": {
    "collapsed": false
   },
   "outputs": [],
   "source": [
    "newfinal['adv_times']=abs(newfinal['adv_times'])"
   ]
  },
  {
   "cell_type": "code",
   "execution_count": 224,
   "metadata": {
    "collapsed": false
   },
   "outputs": [],
   "source": [
    "newfinal.to_csv('/Users/Shuxian/Documents/CSYE7390-Spring2016/ADS Final Project/newtrain.csv',index=False)"
   ]
  },
  {
   "cell_type": "code",
   "execution_count": 226,
   "metadata": {
    "collapsed": false
   },
   "outputs": [],
   "source": [
    "toneha=newfinal[newfinal['is_booking']==1]"
   ]
  },
  {
   "cell_type": "code",
   "execution_count": 227,
   "metadata": {
    "collapsed": true
   },
   "outputs": [],
   "source": [
    "toneha.to_csv('/Users/Shuxian/Documents/CSYE7390-Spring2016/ADS Final Project/toneha.csv',index=False)"
   ]
  },
  {
   "cell_type": "code",
   "execution_count": null,
   "metadata": {
    "collapsed": true
   },
   "outputs": [],
   "source": []
  }
 ],
 "metadata": {
  "kernelspec": {
   "display_name": "Python 3",
   "language": "python",
   "name": "python3"
  },
  "language_info": {
   "codemirror_mode": {
    "name": "ipython",
    "version": 3
   },
   "file_extension": ".py",
   "mimetype": "text/x-python",
   "name": "python",
   "nbconvert_exporter": "python",
   "pygments_lexer": "ipython3",
   "version": "3.5.1"
  }
 },
 "nbformat": 4,
 "nbformat_minor": 0
}
